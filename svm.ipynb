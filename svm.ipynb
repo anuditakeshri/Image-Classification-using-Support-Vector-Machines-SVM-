{
 "cells": [
  {
   "cell_type": "code",
   "execution_count": 2,
   "metadata": {},
   "outputs": [],
   "source": [
    "# IMPORTING IMPORTANT LIBRARIES\n",
    "import os\n",
    "import numpy as np\n",
    "import pandas as pd"
   ]
  },
  {
   "cell_type": "code",
   "execution_count": 4,
   "metadata": {},
   "outputs": [
    {
     "name": "stdout",
     "output_type": "stream",
     "text": [
      "Collecting opencv-python\n",
      "  Downloading opencv_python-4.4.0.46-cp38-cp38-win_amd64.whl (33.5 MB)\n",
      "Requirement already satisfied: numpy>=1.17.3 in c:\\programdata\\anaconda3\\lib\\site-packages (from opencv-python) (1.19.2)\n",
      "Installing collected packages: opencv-python\n",
      "Successfully installed opencv-python-4.4.0.46\n"
     ]
    }
   ],
   "source": [
    "import sys\n",
    "!{sys.executable} -m pip install opencv-python"
   ]
  },
  {
   "cell_type": "code",
   "execution_count": 47,
   "metadata": {},
   "outputs": [],
   "source": [
    "import cv2\n",
    "# import matplotlib.pyplot as plt\n",
    "import pickle\n",
    "import random\n",
    "from sklearn.model_selection import train_test_split\n",
    "from sklearn.svm import SVC"
   ]
  },
  {
   "cell_type": "code",
   "execution_count": 48,
   "metadata": {},
   "outputs": [],
   "source": [
    "# FETCHING THE DATA \n",
    "dir_train = 'C:\\\\Users\\\\anuditakeshri\\\\Desktop\\\\Image_processing\\\\data\\\\train'"
   ]
  },
  {
   "cell_type": "code",
   "execution_count": 49,
   "metadata": {},
   "outputs": [],
   "source": [
    "categories = ['airplane','car','cat','dog','flower','fruit','motorbike','person']\n",
    "\n",
    "data_train = []  \n",
    "# data formatting started"
   ]
  },
  {
   "cell_type": "code",
   "execution_count": 50,
   "metadata": {},
   "outputs": [],
   "source": [
    "# DATA RESIZED\n",
    "for category in categories:\n",
    "    path = os.path.join(dir_train,category)\n",
    "    label = categories.index(category)\n",
    "\n",
    "    for img in os.listdir(path):\n",
    "        imgpath = os.path.join(path,img)\n",
    "        pet_img = cv2.imread(imgpath,0)\n",
    "        try:\n",
    "            pet_img = cv2.resize(pet_img,(70,70))\n",
    "            image = np.array(pet_img).flatten()\n",
    "\n",
    "            data_train.append([image,label])\n",
    "        except Exception as e:\n",
    "            pass"
   ]
  },
  {
   "cell_type": "code",
   "execution_count": 51,
   "metadata": {},
   "outputs": [],
   "source": [
    "# CONVERTING TO PICKLE\n",
    "pick_in = open('data1.pickle','wb')\n",
    "pickle.dump(data_train,pick_in)\n",
    "pick_in.close()"
   ]
  },
  {
   "cell_type": "code",
   "execution_count": 52,
   "metadata": {},
   "outputs": [],
   "source": [
    "# CONVERTED TO PICKLE\n",
    "pick_in = open('data1.pickle','rb')\n",
    "data_train = pickle.load(pick_in)\n",
    "pick_in.close()"
   ]
  },
  {
   "cell_type": "code",
   "execution_count": 53,
   "metadata": {},
   "outputs": [],
   "source": [
    "# SHUFFLING AND SPLITTING THE DATA\n",
    "random.shuffle(data_train)\n",
    "features_train = []\n",
    "labels_train = []\n",
    "\n",
    "for feature, label in data_train:\n",
    "    features_train.append(feature)\n",
    "    labels_train.append(label)\n",
    "\n",
    "x_train, x_test, y_train, y_test = train_test_split(features_train, labels_train, test_size = 0.20)"
   ]
  },
  {
   "cell_type": "code",
   "execution_count": 54,
   "metadata": {},
   "outputs": [],
   "source": [
    "# TRAINING THE MODEL\n",
    "\n",
    "model = SVC(C=1, kernel = 'poly',gamma= 'auto')\n",
    "# print(\"training started\")\n",
    "\n",
    "model.fit(x_train,y_train)\n",
    "# print(\"training ended\")\n",
    "\n",
    "\n",
    "pick = open('model.sav','wb')\n",
    "pickle.dump(model,pick)\n",
    "# model = pickle.load(pick)\n",
    "pick.close()\n",
    "# print(\"model saved\")\n",
    "\n",
    "\n",
    "pick = open('model.sav','rb')\n",
    "# pickle.dump(model,pick)\n",
    "model = pickle.load(pick)\n",
    "pick.close()\n",
    "# print(\"model loaded\")\n"
   ]
  },
  {
   "cell_type": "code",
   "execution_count": 55,
   "metadata": {},
   "outputs": [],
   "source": [
    "# TESTING THE MODEL\n",
    "df_output = pd.DataFrame()\n",
    "y_predicted = model.predict(x_test)\n",
    "df_output['Predicted_values'] = y_predicted\n",
    "df_output['Original_values'] = y_test"
   ]
  },
  {
   "cell_type": "code",
   "execution_count": 56,
   "metadata": {},
   "outputs": [],
   "source": [
    "# CONVERTING VALUES TO CATEGORIES\n",
    "df_output['Predicted_values'] = df_output['Predicted_values'].map({0:\"airplane\",1:\"car\",2:\"cat\",3:\"dog\",4:\"flower\",5:\"fruit\",6:\"motorbike\",7:\"person\"})"
   ]
  },
  {
   "cell_type": "code",
   "execution_count": 57,
   "metadata": {},
   "outputs": [
    {
     "data": {
      "text/plain": [
       "0         flower\n",
       "1         person\n",
       "2            car\n",
       "3       airplane\n",
       "4          fruit\n",
       "          ...   \n",
       "1375         cat\n",
       "1376      person\n",
       "1377         car\n",
       "1378         dog\n",
       "1379       fruit\n",
       "Name: Predicted_values, Length: 1380, dtype: object"
      ]
     },
     "execution_count": 57,
     "metadata": {},
     "output_type": "execute_result"
    }
   ],
   "source": [
    "df_output['Predicted_values']"
   ]
  },
  {
   "cell_type": "code",
   "execution_count": 58,
   "metadata": {},
   "outputs": [],
   "source": [
    "# CONVERTING ORIGINAL VALUES TO CATEGORIES\n",
    "df_output['Original_values'] = df_output['Original_values'].map({0:\"airplane\",1:\"car\",2:\"cat\",3:\"dog\",4:\"flower\",5:\"fruit\",6:\"motorbike\",7:\"person\"})"
   ]
  },
  {
   "cell_type": "code",
   "execution_count": 59,
   "metadata": {},
   "outputs": [],
   "source": [
    "df_output[['Original_values','Predicted_values']].to_csv('output.csv',index=False)"
   ]
  },
  {
   "cell_type": "code",
   "execution_count": 60,
   "metadata": {},
   "outputs": [],
   "source": [
    "# SAVING THE OUTPUT IN THE CSV FILE\n",
    "output_predicted = pd.read_csv('output.csv')"
   ]
  },
  {
   "cell_type": "code",
   "execution_count": 61,
   "metadata": {},
   "outputs": [
    {
     "data": {
      "text/html": [
       "<div>\n",
       "<style scoped>\n",
       "    .dataframe tbody tr th:only-of-type {\n",
       "        vertical-align: middle;\n",
       "    }\n",
       "\n",
       "    .dataframe tbody tr th {\n",
       "        vertical-align: top;\n",
       "    }\n",
       "\n",
       "    .dataframe thead th {\n",
       "        text-align: right;\n",
       "    }\n",
       "</style>\n",
       "<table border=\"1\" class=\"dataframe\">\n",
       "  <thead>\n",
       "    <tr style=\"text-align: right;\">\n",
       "      <th></th>\n",
       "      <th>Original_values</th>\n",
       "      <th>Predicted_values</th>\n",
       "    </tr>\n",
       "  </thead>\n",
       "  <tbody>\n",
       "    <tr>\n",
       "      <th>0</th>\n",
       "      <td>dog</td>\n",
       "      <td>flower</td>\n",
       "    </tr>\n",
       "    <tr>\n",
       "      <th>1</th>\n",
       "      <td>person</td>\n",
       "      <td>person</td>\n",
       "    </tr>\n",
       "    <tr>\n",
       "      <th>2</th>\n",
       "      <td>car</td>\n",
       "      <td>car</td>\n",
       "    </tr>\n",
       "    <tr>\n",
       "      <th>3</th>\n",
       "      <td>airplane</td>\n",
       "      <td>airplane</td>\n",
       "    </tr>\n",
       "    <tr>\n",
       "      <th>4</th>\n",
       "      <td>fruit</td>\n",
       "      <td>fruit</td>\n",
       "    </tr>\n",
       "    <tr>\n",
       "      <th>...</th>\n",
       "      <td>...</td>\n",
       "      <td>...</td>\n",
       "    </tr>\n",
       "    <tr>\n",
       "      <th>1375</th>\n",
       "      <td>cat</td>\n",
       "      <td>cat</td>\n",
       "    </tr>\n",
       "    <tr>\n",
       "      <th>1376</th>\n",
       "      <td>person</td>\n",
       "      <td>person</td>\n",
       "    </tr>\n",
       "    <tr>\n",
       "      <th>1377</th>\n",
       "      <td>cat</td>\n",
       "      <td>car</td>\n",
       "    </tr>\n",
       "    <tr>\n",
       "      <th>1378</th>\n",
       "      <td>dog</td>\n",
       "      <td>dog</td>\n",
       "    </tr>\n",
       "    <tr>\n",
       "      <th>1379</th>\n",
       "      <td>fruit</td>\n",
       "      <td>fruit</td>\n",
       "    </tr>\n",
       "  </tbody>\n",
       "</table>\n",
       "<p>1380 rows × 2 columns</p>\n",
       "</div>"
      ],
      "text/plain": [
       "     Original_values Predicted_values\n",
       "0                dog           flower\n",
       "1             person           person\n",
       "2                car              car\n",
       "3           airplane         airplane\n",
       "4              fruit            fruit\n",
       "...              ...              ...\n",
       "1375             cat              cat\n",
       "1376          person           person\n",
       "1377             cat              car\n",
       "1378             dog              dog\n",
       "1379           fruit            fruit\n",
       "\n",
       "[1380 rows x 2 columns]"
      ]
     },
     "execution_count": 61,
     "metadata": {},
     "output_type": "execute_result"
    }
   ],
   "source": [
    "# OUTPUT\n",
    "output_predicted"
   ]
  },
  {
   "cell_type": "code",
   "execution_count": 64,
   "metadata": {},
   "outputs": [
    {
     "data": {
      "text/plain": [
       "0.7355072463768116"
      ]
     },
     "execution_count": 64,
     "metadata": {},
     "output_type": "execute_result"
    }
   ],
   "source": [
    "# CALCULATING THE ACCURACY\n",
    "accuracy = model.score(x_test,y_test)\n",
    "accuracy"
   ]
  },
  {
   "cell_type": "code",
   "execution_count": null,
   "metadata": {},
   "outputs": [],
   "source": []
  }
 ],
 "metadata": {
  "kernelspec": {
   "display_name": "Python 3",
   "language": "python",
   "name": "python3"
  },
  "language_info": {
   "codemirror_mode": {
    "name": "ipython",
    "version": 3
   },
   "file_extension": ".py",
   "mimetype": "text/x-python",
   "name": "python",
   "nbconvert_exporter": "python",
   "pygments_lexer": "ipython3",
   "version": "3.8.5"
  }
 },
 "nbformat": 4,
 "nbformat_minor": 4
}
